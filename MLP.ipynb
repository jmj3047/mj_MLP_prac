{
 "cells": [
  {
   "cell_type": "markdown",
   "metadata": {},
   "source": [
    "Multi-layer Perceptron(MLP)"
   ]
  },
  {
   "cell_type": "markdown",
   "metadata": {},
   "source": [
    "Install Library & requirements"
   ]
  },
  {
   "cell_type": "code",
   "execution_count": 1,
   "metadata": {},
   "outputs": [
    {
     "name": "stdout",
     "output_type": "stream",
     "text": [
      "/home/jmj3047/mj_MLP_prac\n"
     ]
    }
   ],
   "source": [
    "!pwd"
   ]
  },
  {
   "cell_type": "code",
   "execution_count": 2,
   "metadata": {},
   "outputs": [],
   "source": [
    "import os\n",
    "import sys\n",
    "from datetime import datetime\n",
    "\n",
    "drive_project_root = \"/home/jmj3047/mj_MLP_prac\"\n",
    "sys.path.append(drive_project_root)\n"
   ]
  },
  {
   "cell_type": "code",
   "execution_count": 3,
   "metadata": {},
   "outputs": [
    {
     "name": "stdout",
     "output_type": "stream",
     "text": [
      "Requirement already satisfied: pytorch-lightning==1.3.8 in /home/jmj3047/anaconda3/lib/python3.8/site-packages (from -r /home/jmj3047/mj_MLP_prac/requirements.txt (line 1)) (1.3.8)\n",
      "Requirement already satisfied: torch-optimizer==0.1.0 in /home/jmj3047/anaconda3/lib/python3.8/site-packages (from -r /home/jmj3047/mj_MLP_prac/requirements.txt (line 2)) (0.1.0)\n",
      "Requirement already satisfied: hydra-core==1.1 in /home/jmj3047/anaconda3/lib/python3.8/site-packages (from -r /home/jmj3047/mj_MLP_prac/requirements.txt (line 3)) (1.1.0)\n",
      "Collecting wandb==0.11.1\n",
      "  Using cached wandb-0.11.1-py2.py3-none-any.whl (1.7 MB)\n",
      "Requirement already satisfied: torchtext==0.10.0 in /home/jmj3047/anaconda3/lib/python3.8/site-packages (from -r /home/jmj3047/mj_MLP_prac/requirements.txt (line 5)) (0.10.0)\n",
      "Requirement already satisfied: spacy==2.2.4 in /home/jmj3047/anaconda3/lib/python3.8/site-packages (from -r /home/jmj3047/mj_MLP_prac/requirements.txt (line 6)) (2.2.4)\n",
      "Requirement already satisfied: efficientnet_pytorch==0.7.1 in /home/jmj3047/anaconda3/lib/python3.8/site-packages (from -r /home/jmj3047/mj_MLP_prac/requirements.txt (line 7)) (0.7.1)\n",
      "Requirement already satisfied: tensorflow-addons==0.14.0 in /home/jmj3047/anaconda3/lib/python3.8/site-packages (from -r /home/jmj3047/mj_MLP_prac/requirements.txt (line 8)) (0.14.0)\n",
      "Requirement already satisfied: fsspec[http]!=2021.06.0,>=2021.05.0 in /home/jmj3047/anaconda3/lib/python3.8/site-packages (from pytorch-lightning==1.3.8->-r /home/jmj3047/mj_MLP_prac/requirements.txt (line 1)) (2022.3.0)\n",
      "Requirement already satisfied: PyYAML<=5.4.1,>=5.1 in /home/jmj3047/anaconda3/lib/python3.8/site-packages (from pytorch-lightning==1.3.8->-r /home/jmj3047/mj_MLP_prac/requirements.txt (line 1)) (5.4.1)\n",
      "Requirement already satisfied: packaging>=17.0 in /home/jmj3047/anaconda3/lib/python3.8/site-packages (from pytorch-lightning==1.3.8->-r /home/jmj3047/mj_MLP_prac/requirements.txt (line 1)) (20.9)\n",
      "Requirement already satisfied: torchmetrics>=0.2.0 in /home/jmj3047/anaconda3/lib/python3.8/site-packages (from pytorch-lightning==1.3.8->-r /home/jmj3047/mj_MLP_prac/requirements.txt (line 1)) (0.7.3)\n",
      "Requirement already satisfied: torch>=1.4 in /home/jmj3047/anaconda3/lib/python3.8/site-packages (from pytorch-lightning==1.3.8->-r /home/jmj3047/mj_MLP_prac/requirements.txt (line 1)) (1.11.0)\n",
      "Requirement already satisfied: pillow!=8.3.0 in /home/jmj3047/anaconda3/lib/python3.8/site-packages (from pytorch-lightning==1.3.8->-r /home/jmj3047/mj_MLP_prac/requirements.txt (line 1)) (8.2.0)\n",
      "Requirement already satisfied: pyDeprecate==0.3.0 in /home/jmj3047/anaconda3/lib/python3.8/site-packages (from pytorch-lightning==1.3.8->-r /home/jmj3047/mj_MLP_prac/requirements.txt (line 1)) (0.3.0)\n",
      "Requirement already satisfied: future>=0.17.1 in /home/jmj3047/anaconda3/lib/python3.8/site-packages (from pytorch-lightning==1.3.8->-r /home/jmj3047/mj_MLP_prac/requirements.txt (line 1)) (0.18.2)\n",
      "Requirement already satisfied: numpy>=1.17.2 in /home/jmj3047/anaconda3/lib/python3.8/site-packages (from pytorch-lightning==1.3.8->-r /home/jmj3047/mj_MLP_prac/requirements.txt (line 1)) (1.19.5)\n",
      "Requirement already satisfied: tensorboard!=2.5.0,>=2.2.0 in /home/jmj3047/anaconda3/lib/python3.8/site-packages (from pytorch-lightning==1.3.8->-r /home/jmj3047/mj_MLP_prac/requirements.txt (line 1)) (2.6.0)\n",
      "Requirement already satisfied: tqdm>=4.41.0 in /home/jmj3047/anaconda3/lib/python3.8/site-packages (from pytorch-lightning==1.3.8->-r /home/jmj3047/mj_MLP_prac/requirements.txt (line 1)) (4.59.0)\n",
      "Requirement already satisfied: pytorch-ranger>=0.1.1 in /home/jmj3047/anaconda3/lib/python3.8/site-packages (from torch-optimizer==0.1.0->-r /home/jmj3047/mj_MLP_prac/requirements.txt (line 2)) (0.1.1)\n",
      "Requirement already satisfied: omegaconf==2.1.* in /home/jmj3047/anaconda3/lib/python3.8/site-packages (from hydra-core==1.1->-r /home/jmj3047/mj_MLP_prac/requirements.txt (line 3)) (2.1.1)\n",
      "Requirement already satisfied: importlib-resources in /home/jmj3047/anaconda3/lib/python3.8/site-packages (from hydra-core==1.1->-r /home/jmj3047/mj_MLP_prac/requirements.txt (line 3)) (5.6.0)\n",
      "Requirement already satisfied: antlr4-python3-runtime==4.8 in /home/jmj3047/anaconda3/lib/python3.8/site-packages (from hydra-core==1.1->-r /home/jmj3047/mj_MLP_prac/requirements.txt (line 3)) (4.8)\n",
      "Requirement already satisfied: requests<3,>=2.0.0 in /home/jmj3047/anaconda3/lib/python3.8/site-packages (from wandb==0.11.1->-r /home/jmj3047/mj_MLP_prac/requirements.txt (line 4)) (2.27.1)\n",
      "Requirement already satisfied: GitPython>=1.0.0 in /home/jmj3047/anaconda3/lib/python3.8/site-packages (from wandb==0.11.1->-r /home/jmj3047/mj_MLP_prac/requirements.txt (line 4)) (3.1.27)\n",
      "Requirement already satisfied: shortuuid>=0.5.0 in /home/jmj3047/anaconda3/lib/python3.8/site-packages (from wandb==0.11.1->-r /home/jmj3047/mj_MLP_prac/requirements.txt (line 4)) (1.0.8)\n",
      "Requirement already satisfied: promise<3,>=2.0 in /home/jmj3047/anaconda3/lib/python3.8/site-packages (from wandb==0.11.1->-r /home/jmj3047/mj_MLP_prac/requirements.txt (line 4)) (2.3)\n",
      "Requirement already satisfied: pathtools in /home/jmj3047/anaconda3/lib/python3.8/site-packages (from wandb==0.11.1->-r /home/jmj3047/mj_MLP_prac/requirements.txt (line 4)) (0.1.2)\n",
      "Requirement already satisfied: docker-pycreds>=0.4.0 in /home/jmj3047/anaconda3/lib/python3.8/site-packages (from wandb==0.11.1->-r /home/jmj3047/mj_MLP_prac/requirements.txt (line 4)) (0.4.0)\n",
      "Requirement already satisfied: configparser>=3.8.1 in /home/jmj3047/anaconda3/lib/python3.8/site-packages (from wandb==0.11.1->-r /home/jmj3047/mj_MLP_prac/requirements.txt (line 4)) (5.2.0)\n",
      "Requirement already satisfied: six>=1.13.0 in /home/jmj3047/anaconda3/lib/python3.8/site-packages (from wandb==0.11.1->-r /home/jmj3047/mj_MLP_prac/requirements.txt (line 4)) (1.15.0)\n",
      "Requirement already satisfied: protobuf>=3.12.0 in /home/jmj3047/anaconda3/lib/python3.8/site-packages (from wandb==0.11.1->-r /home/jmj3047/mj_MLP_prac/requirements.txt (line 4)) (3.17.2)\n",
      "Requirement already satisfied: Click!=8.0.0,>=7.0 in /home/jmj3047/anaconda3/lib/python3.8/site-packages (from wandb==0.11.1->-r /home/jmj3047/mj_MLP_prac/requirements.txt (line 4)) (8.1.2)\n",
      "Requirement already satisfied: sentry-sdk>=1.0.0 in /home/jmj3047/anaconda3/lib/python3.8/site-packages (from wandb==0.11.1->-r /home/jmj3047/mj_MLP_prac/requirements.txt (line 4)) (1.5.8)\n",
      "Requirement already satisfied: python-dateutil>=2.6.1 in /home/jmj3047/anaconda3/lib/python3.8/site-packages (from wandb==0.11.1->-r /home/jmj3047/mj_MLP_prac/requirements.txt (line 4)) (2.8.1)\n",
      "Requirement already satisfied: psutil>=5.0.0 in /home/jmj3047/anaconda3/lib/python3.8/site-packages (from wandb==0.11.1->-r /home/jmj3047/mj_MLP_prac/requirements.txt (line 4)) (5.8.0)\n",
      "Requirement already satisfied: graphql-core>=2.3.0 in /home/jmj3047/anaconda3/lib/python3.8/site-packages (from wandb==0.11.1->-r /home/jmj3047/mj_MLP_prac/requirements.txt (line 4)) (3.2.0)\n",
      "Collecting torch>=1.4\n",
      "  Using cached torch-1.9.0-cp38-cp38-manylinux1_x86_64.whl (831.4 MB)\n",
      "Requirement already satisfied: wasabi<1.1.0,>=0.4.0 in /home/jmj3047/anaconda3/lib/python3.8/site-packages (from spacy==2.2.4->-r /home/jmj3047/mj_MLP_prac/requirements.txt (line 6)) (0.9.1)\n",
      "Requirement already satisfied: catalogue<1.1.0,>=0.0.7 in /home/jmj3047/anaconda3/lib/python3.8/site-packages (from spacy==2.2.4->-r /home/jmj3047/mj_MLP_prac/requirements.txt (line 6)) (1.0.0)\n",
      "Requirement already satisfied: preshed<3.1.0,>=3.0.2 in /home/jmj3047/anaconda3/lib/python3.8/site-packages (from spacy==2.2.4->-r /home/jmj3047/mj_MLP_prac/requirements.txt (line 6)) (3.0.6)\n",
      "Requirement already satisfied: blis<0.5.0,>=0.4.0 in /home/jmj3047/anaconda3/lib/python3.8/site-packages (from spacy==2.2.4->-r /home/jmj3047/mj_MLP_prac/requirements.txt (line 6)) (0.4.1)\n",
      "Requirement already satisfied: cymem<2.1.0,>=2.0.2 in /home/jmj3047/anaconda3/lib/python3.8/site-packages (from spacy==2.2.4->-r /home/jmj3047/mj_MLP_prac/requirements.txt (line 6)) (2.0.6)\n",
      "Requirement already satisfied: plac<1.2.0,>=0.9.6 in /home/jmj3047/anaconda3/lib/python3.8/site-packages (from spacy==2.2.4->-r /home/jmj3047/mj_MLP_prac/requirements.txt (line 6)) (1.1.3)\n",
      "Requirement already satisfied: srsly<1.1.0,>=1.0.2 in /home/jmj3047/anaconda3/lib/python3.8/site-packages (from spacy==2.2.4->-r /home/jmj3047/mj_MLP_prac/requirements.txt (line 6)) (1.0.5)\n",
      "Requirement already satisfied: murmurhash<1.1.0,>=0.28.0 in /home/jmj3047/anaconda3/lib/python3.8/site-packages (from spacy==2.2.4->-r /home/jmj3047/mj_MLP_prac/requirements.txt (line 6)) (1.0.6)\n",
      "Requirement already satisfied: setuptools in /home/jmj3047/anaconda3/lib/python3.8/site-packages (from spacy==2.2.4->-r /home/jmj3047/mj_MLP_prac/requirements.txt (line 6)) (52.0.0.post20210125)\n",
      "Requirement already satisfied: thinc==7.4.0 in /home/jmj3047/anaconda3/lib/python3.8/site-packages (from spacy==2.2.4->-r /home/jmj3047/mj_MLP_prac/requirements.txt (line 6)) (7.4.0)\n",
      "Requirement already satisfied: typeguard>=2.7 in /home/jmj3047/anaconda3/lib/python3.8/site-packages (from tensorflow-addons==0.14.0->-r /home/jmj3047/mj_MLP_prac/requirements.txt (line 8)) (2.13.3)\n",
      "Requirement already satisfied: typing-extensions in /home/jmj3047/anaconda3/lib/python3.8/site-packages (from torch>=1.4->pytorch-lightning==1.3.8->-r /home/jmj3047/mj_MLP_prac/requirements.txt (line 1)) (4.1.1)\n",
      "Requirement already satisfied: aiohttp in /home/jmj3047/anaconda3/lib/python3.8/site-packages (from fsspec[http]!=2021.06.0,>=2021.05.0->pytorch-lightning==1.3.8->-r /home/jmj3047/mj_MLP_prac/requirements.txt (line 1)) (3.8.1)\n",
      "Requirement already satisfied: gitdb<5,>=4.0.1 in /home/jmj3047/anaconda3/lib/python3.8/site-packages (from GitPython>=1.0.0->wandb==0.11.1->-r /home/jmj3047/mj_MLP_prac/requirements.txt (line 4)) (4.0.9)\n",
      "Requirement already satisfied: pyparsing>=2.0.2 in /home/jmj3047/anaconda3/lib/python3.8/site-packages (from packaging>=17.0->pytorch-lightning==1.3.8->-r /home/jmj3047/mj_MLP_prac/requirements.txt (line 1)) (2.4.7)\n",
      "Requirement already satisfied: certifi>=2017.4.17 in /home/jmj3047/anaconda3/lib/python3.8/site-packages (from requests<3,>=2.0.0->wandb==0.11.1->-r /home/jmj3047/mj_MLP_prac/requirements.txt (line 4)) (2020.12.5)\n",
      "Requirement already satisfied: charset-normalizer~=2.0.0 in /home/jmj3047/anaconda3/lib/python3.8/site-packages (from requests<3,>=2.0.0->wandb==0.11.1->-r /home/jmj3047/mj_MLP_prac/requirements.txt (line 4)) (2.0.12)\n",
      "Requirement already satisfied: urllib3<1.27,>=1.21.1 in /home/jmj3047/anaconda3/lib/python3.8/site-packages (from requests<3,>=2.0.0->wandb==0.11.1->-r /home/jmj3047/mj_MLP_prac/requirements.txt (line 4)) (1.26.4)\n",
      "Requirement already satisfied: idna<4,>=2.5 in /home/jmj3047/anaconda3/lib/python3.8/site-packages (from requests<3,>=2.0.0->wandb==0.11.1->-r /home/jmj3047/mj_MLP_prac/requirements.txt (line 4)) (2.10)\n",
      "Requirement already satisfied: tensorboard-plugin-wit>=1.6.0 in /home/jmj3047/anaconda3/lib/python3.8/site-packages (from tensorboard!=2.5.0,>=2.2.0->pytorch-lightning==1.3.8->-r /home/jmj3047/mj_MLP_prac/requirements.txt (line 1)) (1.6.0)\n",
      "Requirement already satisfied: grpcio>=1.24.3 in /home/jmj3047/anaconda3/lib/python3.8/site-packages (from tensorboard!=2.5.0,>=2.2.0->pytorch-lightning==1.3.8->-r /home/jmj3047/mj_MLP_prac/requirements.txt (line 1)) (1.41.0)\n",
      "Requirement already satisfied: google-auth-oauthlib<0.5,>=0.4.1 in /home/jmj3047/anaconda3/lib/python3.8/site-packages (from tensorboard!=2.5.0,>=2.2.0->pytorch-lightning==1.3.8->-r /home/jmj3047/mj_MLP_prac/requirements.txt (line 1)) (0.4.4)\n",
      "Requirement already satisfied: google-auth<2,>=1.6.3 in /home/jmj3047/anaconda3/lib/python3.8/site-packages (from tensorboard!=2.5.0,>=2.2.0->pytorch-lightning==1.3.8->-r /home/jmj3047/mj_MLP_prac/requirements.txt (line 1)) (1.21.3)\n",
      "Requirement already satisfied: wheel>=0.26 in /home/jmj3047/anaconda3/lib/python3.8/site-packages (from tensorboard!=2.5.0,>=2.2.0->pytorch-lightning==1.3.8->-r /home/jmj3047/mj_MLP_prac/requirements.txt (line 1)) (0.36.2)\n",
      "Requirement already satisfied: tensorboard-data-server<0.7.0,>=0.6.0 in /home/jmj3047/anaconda3/lib/python3.8/site-packages (from tensorboard!=2.5.0,>=2.2.0->pytorch-lightning==1.3.8->-r /home/jmj3047/mj_MLP_prac/requirements.txt (line 1)) (0.6.1)\n",
      "Requirement already satisfied: markdown>=2.6.8 in /home/jmj3047/anaconda3/lib/python3.8/site-packages (from tensorboard!=2.5.0,>=2.2.0->pytorch-lightning==1.3.8->-r /home/jmj3047/mj_MLP_prac/requirements.txt (line 1)) (3.3.4)\n",
      "Requirement already satisfied: absl-py>=0.4 in /home/jmj3047/anaconda3/lib/python3.8/site-packages (from tensorboard!=2.5.0,>=2.2.0->pytorch-lightning==1.3.8->-r /home/jmj3047/mj_MLP_prac/requirements.txt (line 1)) (0.13.0)\n",
      "Requirement already satisfied: werkzeug>=0.11.15 in /home/jmj3047/anaconda3/lib/python3.8/site-packages (from tensorboard!=2.5.0,>=2.2.0->pytorch-lightning==1.3.8->-r /home/jmj3047/mj_MLP_prac/requirements.txt (line 1)) (1.0.1)\n",
      "Requirement already satisfied: zipp>=3.1.0 in /home/jmj3047/anaconda3/lib/python3.8/site-packages (from importlib-resources->hydra-core==1.1->-r /home/jmj3047/mj_MLP_prac/requirements.txt (line 3)) (3.4.1)\n",
      "Requirement already satisfied: smmap<6,>=3.0.1 in /home/jmj3047/anaconda3/lib/python3.8/site-packages (from gitdb<5,>=4.0.1->GitPython>=1.0.0->wandb==0.11.1->-r /home/jmj3047/mj_MLP_prac/requirements.txt (line 4)) (5.0.0)\n",
      "Requirement already satisfied: rsa<5,>=3.1.4 in /home/jmj3047/anaconda3/lib/python3.8/site-packages (from google-auth<2,>=1.6.3->tensorboard!=2.5.0,>=2.2.0->pytorch-lightning==1.3.8->-r /home/jmj3047/mj_MLP_prac/requirements.txt (line 1)) (4.7.2)\n",
      "Requirement already satisfied: pyasn1-modules>=0.2.1 in /home/jmj3047/anaconda3/lib/python3.8/site-packages (from google-auth<2,>=1.6.3->tensorboard!=2.5.0,>=2.2.0->pytorch-lightning==1.3.8->-r /home/jmj3047/mj_MLP_prac/requirements.txt (line 1)) (0.2.8)\n",
      "Requirement already satisfied: cachetools<5.0,>=2.0.0 in /home/jmj3047/anaconda3/lib/python3.8/site-packages (from google-auth<2,>=1.6.3->tensorboard!=2.5.0,>=2.2.0->pytorch-lightning==1.3.8->-r /home/jmj3047/mj_MLP_prac/requirements.txt (line 1)) (4.2.2)\n",
      "Requirement already satisfied: requests-oauthlib>=0.7.0 in /home/jmj3047/anaconda3/lib/python3.8/site-packages (from google-auth-oauthlib<0.5,>=0.4.1->tensorboard!=2.5.0,>=2.2.0->pytorch-lightning==1.3.8->-r /home/jmj3047/mj_MLP_prac/requirements.txt (line 1)) (1.3.0)\n",
      "Requirement already satisfied: frozenlist>=1.1.1 in /home/jmj3047/anaconda3/lib/python3.8/site-packages (from aiohttp->fsspec[http]!=2021.06.0,>=2021.05.0->pytorch-lightning==1.3.8->-r /home/jmj3047/mj_MLP_prac/requirements.txt (line 1)) (1.3.0)\n",
      "Requirement already satisfied: yarl<2.0,>=1.0 in /home/jmj3047/anaconda3/lib/python3.8/site-packages (from aiohttp->fsspec[http]!=2021.06.0,>=2021.05.0->pytorch-lightning==1.3.8->-r /home/jmj3047/mj_MLP_prac/requirements.txt (line 1)) (1.7.2)\n",
      "Requirement already satisfied: multidict<7.0,>=4.5 in /home/jmj3047/anaconda3/lib/python3.8/site-packages (from aiohttp->fsspec[http]!=2021.06.0,>=2021.05.0->pytorch-lightning==1.3.8->-r /home/jmj3047/mj_MLP_prac/requirements.txt (line 1)) (6.0.2)\n",
      "Requirement already satisfied: aiosignal>=1.1.2 in /home/jmj3047/anaconda3/lib/python3.8/site-packages (from aiohttp->fsspec[http]!=2021.06.0,>=2021.05.0->pytorch-lightning==1.3.8->-r /home/jmj3047/mj_MLP_prac/requirements.txt (line 1)) (1.2.0)\n",
      "Requirement already satisfied: attrs>=17.3.0 in /home/jmj3047/anaconda3/lib/python3.8/site-packages (from aiohttp->fsspec[http]!=2021.06.0,>=2021.05.0->pytorch-lightning==1.3.8->-r /home/jmj3047/mj_MLP_prac/requirements.txt (line 1)) (20.3.0)\n",
      "Requirement already satisfied: async-timeout<5.0,>=4.0.0a3 in /home/jmj3047/anaconda3/lib/python3.8/site-packages (from aiohttp->fsspec[http]!=2021.06.0,>=2021.05.0->pytorch-lightning==1.3.8->-r /home/jmj3047/mj_MLP_prac/requirements.txt (line 1)) (4.0.2)\n",
      "Requirement already satisfied: pyasn1<0.5.0,>=0.4.6 in /home/jmj3047/anaconda3/lib/python3.8/site-packages (from pyasn1-modules>=0.2.1->google-auth<2,>=1.6.3->tensorboard!=2.5.0,>=2.2.0->pytorch-lightning==1.3.8->-r /home/jmj3047/mj_MLP_prac/requirements.txt (line 1)) (0.4.8)\n",
      "Requirement already satisfied: oauthlib>=3.0.0 in /home/jmj3047/anaconda3/lib/python3.8/site-packages (from requests-oauthlib>=0.7.0->google-auth-oauthlib<0.5,>=0.4.1->tensorboard!=2.5.0,>=2.2.0->pytorch-lightning==1.3.8->-r /home/jmj3047/mj_MLP_prac/requirements.txt (line 1)) (3.1.1)\n",
      "Installing collected packages: torch, wandb\n",
      "  Attempting uninstall: torch\n",
      "    Found existing installation: torch 1.11.0\n",
      "    Uninstalling torch-1.11.0:\n",
      "      Successfully uninstalled torch-1.11.0\n",
      "  Attempting uninstall: wandb\n",
      "    Found existing installation: wandb 0.12.12\n",
      "    Uninstalling wandb-0.12.12:\n",
      "      Successfully uninstalled wandb-0.12.12\n",
      "\u001b[31mERROR: pip's dependency resolver does not currently take into account all the packages that are installed. This behaviour is the source of the following dependency conflicts.\n",
      "torchvision 0.12.0 requires torch==1.11.0, but you have torch 1.9.0 which is incompatible.\u001b[0m\u001b[31m\n",
      "\u001b[0mSuccessfully installed torch-1.9.0 wandb-0.11.1\n"
     ]
    }
   ],
   "source": [
    "!pip install -r \"/home/jmj3047/mj_MLP_prac/requirements.txt\""
   ]
  },
  {
   "cell_type": "code",
   "execution_count": 9,
   "metadata": {},
   "outputs": [
    {
     "ename": "ModuleNotFoundError",
     "evalue": "No module named 'torch.ao.quantization'",
     "output_type": "error",
     "traceback": [
      "\u001b[0;31m---------------------------------------------------------------------------\u001b[0m",
      "\u001b[0;31mModuleNotFoundError\u001b[0m                       Traceback (most recent call last)",
      "\u001b[0;32m<ipython-input-9-3332490b0ff9>\u001b[0m in \u001b[0;36m<module>\u001b[0;34m\u001b[0m\n\u001b[1;32m      8\u001b[0m \u001b[0;32mfrom\u001b[0m \u001b[0mtorch\u001b[0m\u001b[0;34m.\u001b[0m\u001b[0mutils\u001b[0m\u001b[0;34m.\u001b[0m\u001b[0mtensorboard\u001b[0m \u001b[0;32mimport\u001b[0m \u001b[0mSummaryWriter\u001b[0m\u001b[0;34m\u001b[0m\u001b[0;34m\u001b[0m\u001b[0m\n\u001b[1;32m      9\u001b[0m \u001b[0;32mfrom\u001b[0m \u001b[0mtorchvision\u001b[0m\u001b[0;34m.\u001b[0m\u001b[0mdatasets\u001b[0m \u001b[0;32mimport\u001b[0m \u001b[0mFashionMNIST\u001b[0m\u001b[0;34m\u001b[0m\u001b[0;34m\u001b[0m\u001b[0m\n\u001b[0;32m---> 10\u001b[0;31m \u001b[0;32mfrom\u001b[0m \u001b[0mtorchvision\u001b[0m \u001b[0;32mimport\u001b[0m \u001b[0mtransforms\u001b[0m\u001b[0;34m\u001b[0m\u001b[0;34m\u001b[0m\u001b[0m\n\u001b[0m",
      "\u001b[0;32m~/anaconda3/lib/python3.8/site-packages/torchvision/__init__.py\u001b[0m in \u001b[0;36m<module>\u001b[0;34m\u001b[0m\n\u001b[1;32m      5\u001b[0m \u001b[0;32mfrom\u001b[0m \u001b[0mtorchvision\u001b[0m \u001b[0;32mimport\u001b[0m \u001b[0mdatasets\u001b[0m\u001b[0;34m\u001b[0m\u001b[0;34m\u001b[0m\u001b[0m\n\u001b[1;32m      6\u001b[0m \u001b[0;32mfrom\u001b[0m \u001b[0mtorchvision\u001b[0m \u001b[0;32mimport\u001b[0m \u001b[0mio\u001b[0m\u001b[0;34m\u001b[0m\u001b[0;34m\u001b[0m\u001b[0m\n\u001b[0;32m----> 7\u001b[0;31m \u001b[0;32mfrom\u001b[0m \u001b[0mtorchvision\u001b[0m \u001b[0;32mimport\u001b[0m \u001b[0mmodels\u001b[0m\u001b[0;34m\u001b[0m\u001b[0;34m\u001b[0m\u001b[0m\n\u001b[0m\u001b[1;32m      8\u001b[0m \u001b[0;32mfrom\u001b[0m \u001b[0mtorchvision\u001b[0m \u001b[0;32mimport\u001b[0m \u001b[0mops\u001b[0m\u001b[0;34m\u001b[0m\u001b[0;34m\u001b[0m\u001b[0m\n\u001b[1;32m      9\u001b[0m \u001b[0;32mfrom\u001b[0m \u001b[0mtorchvision\u001b[0m \u001b[0;32mimport\u001b[0m \u001b[0mtransforms\u001b[0m\u001b[0;34m\u001b[0m\u001b[0;34m\u001b[0m\u001b[0m\n",
      "\u001b[0;32m~/anaconda3/lib/python3.8/site-packages/torchvision/models/__init__.py\u001b[0m in \u001b[0;36m<module>\u001b[0;34m\u001b[0m\n\u001b[1;32m     16\u001b[0m \u001b[0;32mfrom\u001b[0m \u001b[0;34m.\u001b[0m \u001b[0;32mimport\u001b[0m \u001b[0mfeature_extraction\u001b[0m\u001b[0;34m\u001b[0m\u001b[0;34m\u001b[0m\u001b[0m\n\u001b[1;32m     17\u001b[0m \u001b[0;32mfrom\u001b[0m \u001b[0;34m.\u001b[0m \u001b[0;32mimport\u001b[0m \u001b[0moptical_flow\u001b[0m\u001b[0;34m\u001b[0m\u001b[0;34m\u001b[0m\u001b[0m\n\u001b[0;32m---> 18\u001b[0;31m \u001b[0;32mfrom\u001b[0m \u001b[0;34m.\u001b[0m \u001b[0;32mimport\u001b[0m \u001b[0mquantization\u001b[0m\u001b[0;34m\u001b[0m\u001b[0;34m\u001b[0m\u001b[0m\n\u001b[0m\u001b[1;32m     19\u001b[0m \u001b[0;32mfrom\u001b[0m \u001b[0;34m.\u001b[0m \u001b[0;32mimport\u001b[0m \u001b[0msegmentation\u001b[0m\u001b[0;34m\u001b[0m\u001b[0;34m\u001b[0m\u001b[0m\n\u001b[1;32m     20\u001b[0m \u001b[0;32mfrom\u001b[0m \u001b[0;34m.\u001b[0m \u001b[0;32mimport\u001b[0m \u001b[0mvideo\u001b[0m\u001b[0;34m\u001b[0m\u001b[0;34m\u001b[0m\u001b[0m\n",
      "\u001b[0;32m~/anaconda3/lib/python3.8/site-packages/torchvision/models/quantization/__init__.py\u001b[0m in \u001b[0;36m<module>\u001b[0;34m\u001b[0m\n\u001b[0;32m----> 1\u001b[0;31m \u001b[0;32mfrom\u001b[0m \u001b[0;34m.\u001b[0m\u001b[0mmobilenet\u001b[0m \u001b[0;32mimport\u001b[0m \u001b[0;34m*\u001b[0m\u001b[0;34m\u001b[0m\u001b[0;34m\u001b[0m\u001b[0m\n\u001b[0m\u001b[1;32m      2\u001b[0m \u001b[0;32mfrom\u001b[0m \u001b[0;34m.\u001b[0m\u001b[0mresnet\u001b[0m \u001b[0;32mimport\u001b[0m \u001b[0;34m*\u001b[0m\u001b[0;34m\u001b[0m\u001b[0;34m\u001b[0m\u001b[0m\n\u001b[1;32m      3\u001b[0m \u001b[0;32mfrom\u001b[0m \u001b[0;34m.\u001b[0m\u001b[0mgooglenet\u001b[0m \u001b[0;32mimport\u001b[0m \u001b[0;34m*\u001b[0m\u001b[0;34m\u001b[0m\u001b[0;34m\u001b[0m\u001b[0m\n\u001b[1;32m      4\u001b[0m \u001b[0;32mfrom\u001b[0m \u001b[0;34m.\u001b[0m\u001b[0minception\u001b[0m \u001b[0;32mimport\u001b[0m \u001b[0;34m*\u001b[0m\u001b[0;34m\u001b[0m\u001b[0;34m\u001b[0m\u001b[0m\n\u001b[1;32m      5\u001b[0m \u001b[0;32mfrom\u001b[0m \u001b[0;34m.\u001b[0m\u001b[0mshufflenetv2\u001b[0m \u001b[0;32mimport\u001b[0m \u001b[0;34m*\u001b[0m\u001b[0;34m\u001b[0m\u001b[0;34m\u001b[0m\u001b[0m\n",
      "\u001b[0;32m~/anaconda3/lib/python3.8/site-packages/torchvision/models/quantization/mobilenet.py\u001b[0m in \u001b[0;36m<module>\u001b[0;34m\u001b[0m\n\u001b[0;32m----> 1\u001b[0;31m \u001b[0;32mfrom\u001b[0m \u001b[0;34m.\u001b[0m\u001b[0mmobilenetv2\u001b[0m \u001b[0;32mimport\u001b[0m \u001b[0mQuantizableMobileNetV2\u001b[0m\u001b[0;34m,\u001b[0m \u001b[0mmobilenet_v2\u001b[0m\u001b[0;34m,\u001b[0m \u001b[0m__all__\u001b[0m \u001b[0;32mas\u001b[0m \u001b[0mmv2_all\u001b[0m\u001b[0;34m\u001b[0m\u001b[0;34m\u001b[0m\u001b[0m\n\u001b[0m\u001b[1;32m      2\u001b[0m \u001b[0;32mfrom\u001b[0m \u001b[0;34m.\u001b[0m\u001b[0mmobilenetv3\u001b[0m \u001b[0;32mimport\u001b[0m \u001b[0mQuantizableMobileNetV3\u001b[0m\u001b[0;34m,\u001b[0m \u001b[0mmobilenet_v3_large\u001b[0m\u001b[0;34m,\u001b[0m \u001b[0m__all__\u001b[0m \u001b[0;32mas\u001b[0m \u001b[0mmv3_all\u001b[0m\u001b[0;34m\u001b[0m\u001b[0;34m\u001b[0m\u001b[0m\n\u001b[1;32m      3\u001b[0m \u001b[0;34m\u001b[0m\u001b[0m\n\u001b[1;32m      4\u001b[0m \u001b[0m__all__\u001b[0m \u001b[0;34m=\u001b[0m \u001b[0mmv2_all\u001b[0m \u001b[0;34m+\u001b[0m \u001b[0mmv3_all\u001b[0m\u001b[0;34m\u001b[0m\u001b[0;34m\u001b[0m\u001b[0m\n",
      "\u001b[0;32m~/anaconda3/lib/python3.8/site-packages/torchvision/models/quantization/mobilenetv2.py\u001b[0m in \u001b[0;36m<module>\u001b[0;34m\u001b[0m\n\u001b[1;32m      3\u001b[0m \u001b[0;32mfrom\u001b[0m \u001b[0mtorch\u001b[0m \u001b[0;32mimport\u001b[0m \u001b[0mTensor\u001b[0m\u001b[0;34m\u001b[0m\u001b[0;34m\u001b[0m\u001b[0m\n\u001b[1;32m      4\u001b[0m \u001b[0;32mfrom\u001b[0m \u001b[0mtorch\u001b[0m \u001b[0;32mimport\u001b[0m \u001b[0mnn\u001b[0m\u001b[0;34m\u001b[0m\u001b[0;34m\u001b[0m\u001b[0m\n\u001b[0;32m----> 5\u001b[0;31m \u001b[0;32mfrom\u001b[0m \u001b[0mtorch\u001b[0m\u001b[0;34m.\u001b[0m\u001b[0mao\u001b[0m\u001b[0;34m.\u001b[0m\u001b[0mquantization\u001b[0m \u001b[0;32mimport\u001b[0m \u001b[0mQuantStub\u001b[0m\u001b[0;34m,\u001b[0m \u001b[0mDeQuantStub\u001b[0m\u001b[0;34m\u001b[0m\u001b[0;34m\u001b[0m\u001b[0m\n\u001b[0m\u001b[1;32m      6\u001b[0m \u001b[0;32mfrom\u001b[0m \u001b[0mtorchvision\u001b[0m\u001b[0;34m.\u001b[0m\u001b[0mmodels\u001b[0m\u001b[0;34m.\u001b[0m\u001b[0mmobilenetv2\u001b[0m \u001b[0;32mimport\u001b[0m \u001b[0mInvertedResidual\u001b[0m\u001b[0;34m,\u001b[0m \u001b[0mMobileNetV2\u001b[0m\u001b[0;34m,\u001b[0m \u001b[0mmodel_urls\u001b[0m\u001b[0;34m\u001b[0m\u001b[0;34m\u001b[0m\u001b[0m\n\u001b[1;32m      7\u001b[0m \u001b[0;34m\u001b[0m\u001b[0m\n",
      "\u001b[0;31mModuleNotFoundError\u001b[0m: No module named 'torch.ao.quantization'"
     ]
    }
   ],
   "source": [
    "import numpy as np\n",
    "from tqdm import tqdm\n",
    "import matplotlib.pyplot as plt\n",
    "import torch\n",
    "from torch import nn\n",
    "from torch import optim\n",
    "\n",
    "from torch.utils.tensorboard import SummaryWriter\n",
    "from torchvision.datasets import FashionMNIST\n",
    "from torchvision import transforms"
   ]
  },
  {
   "cell_type": "code",
   "execution_count": 7,
   "metadata": {},
   "outputs": [
    {
     "ename": "NameError",
     "evalue": "name 'transforms' is not defined",
     "output_type": "error",
     "traceback": [
      "\u001b[0;31m---------------------------------------------------------------------------\u001b[0m",
      "\u001b[0;31mNameError\u001b[0m                                 Traceback (most recent call last)",
      "\u001b[0;32m<ipython-input-7-8d830e557c5a>\u001b[0m in \u001b[0;36m<module>\u001b[0;34m\u001b[0m\n\u001b[1;32m      3\u001b[0m \u001b[0;34m\u001b[0m\u001b[0m\n\u001b[1;32m      4\u001b[0m \u001b[0;31m#preprocessing & 데이터 셋 정의\u001b[0m\u001b[0;34m\u001b[0m\u001b[0;34m\u001b[0m\u001b[0;34m\u001b[0m\u001b[0m\n\u001b[0;32m----> 5\u001b[0;31m transform = transforms.Compose(\n\u001b[0m\u001b[1;32m      6\u001b[0m     [\n\u001b[1;32m      7\u001b[0m         \u001b[0mtransforms\u001b[0m\u001b[0;34m.\u001b[0m\u001b[0mToTensor\u001b[0m\u001b[0;34m(\u001b[0m\u001b[0;34m)\u001b[0m\u001b[0;34m,\u001b[0m\u001b[0;34m\u001b[0m\u001b[0;34m\u001b[0m\u001b[0m\n",
      "\u001b[0;31mNameError\u001b[0m: name 'transforms' is not defined"
     ]
    }
   ],
   "source": [
    "#!pwd\n",
    "data_root = os.path.join(os.getcwd(), 'data')\n",
    "\n",
    "#preprocessing & 데이터 셋 정의\n",
    "transform = transforms.Compose(\n",
    "    [\n",
    "        transforms.ToTensor(),\n",
    "        transforms.Normalize([0.5],[0.5]) #mean, std\n",
    "    ]\n",
    ")\n",
    "\n",
    "fashion_mnist_dataset = FashionMNIST(data_root, download=True, train=True, transform=transform)\n"
   ]
  },
  {
   "cell_type": "code",
   "execution_count": null,
   "metadata": {},
   "outputs": [],
   "source": []
  },
  {
   "cell_type": "code",
   "execution_count": null,
   "metadata": {},
   "outputs": [],
   "source": []
  }
 ],
 "metadata": {
  "interpreter": {
   "hash": "7244abc13d988a7e7d2c4c53272249ae82a63923609912adda01122398923101"
  },
  "kernelspec": {
   "display_name": "Python 3.8.8 ('base': conda)",
   "language": "python",
   "name": "python3"
  },
  "language_info": {
   "codemirror_mode": {
    "name": "ipython",
    "version": 3
   },
   "file_extension": ".py",
   "mimetype": "text/x-python",
   "name": "python",
   "nbconvert_exporter": "python",
   "pygments_lexer": "ipython3",
   "version": "3.8.8"
  },
  "orig_nbformat": 4
 },
 "nbformat": 4,
 "nbformat_minor": 2
}
